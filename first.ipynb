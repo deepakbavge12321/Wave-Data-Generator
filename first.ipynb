{
 "cells": [
  {
   "cell_type": "code",
   "execution_count": null,
   "metadata": {},
   "outputs": [],
   "source": [
    "import os\n",
    "import pandas as pd\n",
    "import numpy as np \n",
    "from scipy.io import loadmat\n",
    "import matplotlib.pyplot as plt\n",
    "from utils import *\n",
    "\n",
    "from scipy.io import loadmat\n",
    "\n",
    "def mat_to_csv(file_path, save_path):\n",
    "    data = loadmat(file_path)\n",
    "    \n",
    "    z3 = data['z3']\n",
    "    \n",
    "    np.save(save_path, {'z3': z3})\n",
    "    \n",
    "    print(f\"Conversion completed! Files saved as {save_path}.\")\n",
    "    \n",
    "mat_to_csv('heave_RAO.mat', 'heave_RAO.npy')"
   ]
  },
  {
   "cell_type": "code",
   "execution_count": null,
   "metadata": {},
   "outputs": [],
   "source": [
    "time = 3600\n",
    "Hs = 2\n",
    "Tp = 10  \n",
    "\n",
    "parameter = set_parameters(time, Hs, Tp)\n",
    "RAO = get_rao('../Data/heave_RAO.npy')\n",
    "\n",
    "etal, heave_ts, t = generate_data(parameter, RAO, jonswap)\n",
    "dataset = pd.DataFrame({'Wave_Elevation': etal, 'Heave_Response': heave_ts})\n",
    "\n",
    "dataset.to_csv('heave_ts_Hs_2m_tp_10s.csv', index=False)\n",
    "\n",
    "df = pd.read_csv('heave_ts_Hs_2m_tp_10s.csv')\n",
    "\n",
    "df.head()"
   ]
  }
 ],
 "metadata": {
  "kernelspec": {
   "display_name": "base",
   "language": "python",
   "name": "python3"
  },
  "language_info": {
   "codemirror_mode": {
    "name": "ipython",
    "version": 3
   },
   "file_extension": ".py",
   "mimetype": "text/x-python",
   "name": "python",
   "nbconvert_exporter": "python",
   "pygments_lexer": "ipython3",
   "version": "3.11.5"
  }
 },
 "nbformat": 4,
 "nbformat_minor": 2
}
